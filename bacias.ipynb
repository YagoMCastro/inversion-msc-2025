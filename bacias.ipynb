{
 "cells": [
  {
   "cell_type": "markdown",
   "metadata": {},
   "source": [
    "# Inversão não linear de dados de grav para estimar o relevo de uma bacia sedimentar"
   ]
  },
  {
   "cell_type": "code",
   "execution_count": 1,
   "metadata": {},
   "outputs": [],
   "source": [
    "import numpy as np\n",
    "import matplotlib.pyplot as plt \n",
    "import harmonica as hm\n",
    "import bordado as bd"
   ]
  },
  {
   "cell_type": "markdown",
   "metadata": {},
   "source": [
    "## Gerar dados sintéticos"
   ]
  },
  {
   "cell_type": "code",
   "execution_count": null,
   "metadata": {},
   "outputs": [],
   "source": [
    "def gaussiana(x, amplitude, deslocamento, desvio_padrao):\n",
    "    return amplitude * np.exp(-((x-deslocamento)/desvio_padrao)**2)\n",
    "\n",
    "def sintetico():\n",
    "    n_prismas = 100\n",
    "    x_min, x_max = 10e3, 90e3\n",
    "    x = bd.line_coordinates(x_min, x_max, size=n_prismas, pixel_register=True)\n",
    "    profundidades = (\n",
    "        gaussiana(x, amplitude=5e3, deslocamento=40e3, desvio_padrao=20e3)\n",
    "        + gaussiana(x, amplitude=1e3, deslocamento=50e3, desvio_padrao=10e3)\n",
    "    )\n",
    "\n",
    "    return profundidades, x_min, x_max\n",
    "\n",
    "def plota_prismas(profundidades, x_min, x_max):\n",
    "    bordas = bd.line_coordinates(x_min, x_max, size=profundidades.sizes+1)\n",
    "    x = [x_min]\n",
    "    y = [0]\n",
    "    for i in range(profundidades.size):\n",
    "        x.extend([bordas[i], bordas[i+1]])\n",
    "        y.extend([profundidades[i], profundidades[i]])\n",
    "    x.append(x_max)\n",
    "    y.append(0)\n",
    "\n",
    "    fig, ax = plt.subplots(1,1)\n",
    "    ax.set_xlabel(\"x[m]\")\n",
    "    ax.set_ylabel(\"profundidade[m]\")\n",
    "    ax.plot(x,y)\n",
    "    \n",
    "    return ax"
   ]
  },
  {
   "cell_type": "code",
   "execution_count": 4,
   "metadata": {},
   "outputs": [
    {
     "data": {
      "text/plain": [
       "(array([ 559.36010908,  628.66193768,  704.29264014,  786.50134617,\n",
       "         875.5000448 ,  971.45642668, 1074.4866719 , 1184.64833357,\n",
       "        1301.93348636, 1426.2623279 , 1557.47743766, 1695.33891304,\n",
       "        1839.52061566, 1989.60776934, 2145.09615596, 2305.3931516 ,\n",
       "        2469.8208322 , 2637.62134939, 2807.96473079, 2979.95918755,\n",
       "        3152.66391193, 3325.10421467, 3496.28868441, 3665.22785253,\n",
       "        3830.9536238 , 3992.53850216, 4149.11342415, 4299.88283993,\n",
       "        4444.13559055, 4581.25015758, 4710.69304358, 4832.00940546,\n",
       "        4944.80561668, 5048.72416476, 5143.41215459, 5228.48561282,\n",
       "        5303.49267244, 5367.87944117, 5420.96279527, 5461.91437993,\n",
       "        5489.75965706, 5503.39488941, 5501.62352183, 5483.21161819,\n",
       "        5446.96000713, 5391.78879975, 5316.82821151, 5221.50838398,\n",
       "        5105.64035078, 4969.4805424 , 4813.77229732, 4639.75965522,\n",
       "        4449.17106951, 4244.17333144, 4027.29864635, 3801.35014453,\n",
       "        3569.29288582, 3334.13844629, 3098.83137157, 2866.1451675 ,\n",
       "        2638.59419143, 2418.36600094, 2207.27664703, 2006.74931212,\n",
       "        1817.81481016, 1641.13095927, 1477.01681137, 1325.49721433,\n",
       "        1186.35316078, 1059.17376371,  943.40638093,  838.40226261,\n",
       "         743.4559997 ,  657.83790547,  580.81919343,  511.69038079,\n",
       "         449.77373033,  394.43075627,  345.06588388,  301.1273048 ,\n",
       "         262.10594538,  227.5333002 ,  196.97870467,  170.04645132,\n",
       "         146.37300801,  125.62447887,  107.49436249,   91.70160425,\n",
       "          77.98890574,   66.12123886,   55.88450978,   47.08432359,\n",
       "          39.54481042,   33.10748504,   27.63012269,   22.98564314,\n",
       "          19.06100202,   15.75609353,   12.9826715 ,   10.66329747]),\n",
       " 10000.0,\n",
       " 90000.0)"
      ]
     },
     "execution_count": 4,
     "metadata": {},
     "output_type": "execute_result"
    }
   ],
   "source": [
    "sintetico()"
   ]
  },
  {
   "cell_type": "code",
   "execution_count": null,
   "metadata": {},
   "outputs": [],
   "source": []
  }
 ],
 "metadata": {
  "kernelspec": {
   "display_name": "magali",
   "language": "python",
   "name": "python3"
  },
  "language_info": {
   "codemirror_mode": {
    "name": "ipython",
    "version": 3
   },
   "file_extension": ".py",
   "mimetype": "text/x-python",
   "name": "python",
   "nbconvert_exporter": "python",
   "pygments_lexer": "ipython3",
   "version": "3.12.0"
  }
 },
 "nbformat": 4,
 "nbformat_minor": 2
}
